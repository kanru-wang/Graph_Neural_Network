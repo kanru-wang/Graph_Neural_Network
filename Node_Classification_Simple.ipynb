{
  "nbformat": 4,
  "nbformat_minor": 0,
  "metadata": {
    "colab": {
      "provenance": [],
      "include_colab_link": true
    },
    "kernelspec": {
      "name": "python3",
      "display_name": "Python 3"
    }
  },
  "cells": [
    {
      "cell_type": "markdown",
      "metadata": {
        "id": "view-in-github",
        "colab_type": "text"
      },
      "source": [
        "<a href=\"https://colab.research.google.com/github/kanru-wang/Graph_Neural_Network/blob/main/Node_Classification.ipynb\" target=\"_parent\"><img src=\"https://colab.research.google.com/assets/colab-badge.svg\" alt=\"Open In Colab\"/></a>"
      ]
    },
    {
      "cell_type": "markdown",
      "source": [
        "# Citation Network Node Classification\n",
        "\n",
        "Given the ground-truth labels of a small subset of nodes, the task is to infer the labels for all the remaining nodes.\n",
        "\n",
        "See: https://pytorch-geometric.readthedocs.io/en/latest/get_started/colabs.html"
      ],
      "metadata": {
        "id": "H8Qf766a4r0K"
      }
    },
    {
      "cell_type": "code",
      "metadata": {
        "id": "F1op-CbyLuN4",
        "colab": {
          "base_uri": "https://localhost:8080/"
        },
        "outputId": "77aaf048-dc7e-491d-a0ed-7a13f3692cc0"
      },
      "source": [
        "import os\n",
        "import torch\n",
        "os.environ['TORCH'] = torch.__version__\n",
        "print(torch.__version__)\n",
        "\n",
        "!pip install -q torch-scatter -f https://data.pyg.org/whl/torch-${TORCH}.html\n",
        "!pip install -q torch-sparse -f https://data.pyg.org/whl/torch-${TORCH}.html\n",
        "!pip install -q git+https://github.com/pyg-team/pytorch_geometric.git"
      ],
      "execution_count": null,
      "outputs": [
        {
          "output_type": "stream",
          "name": "stdout",
          "text": [
            "1.11.0+cu113\n",
            "\u001b[K     |████████████████████████████████| 7.9 MB 3.6 MB/s \n",
            "\u001b[K     |████████████████████████████████| 3.5 MB 4.8 MB/s \n",
            "\u001b[?25h  Building wheel for torch-geometric (setup.py) ... \u001b[?25l\u001b[?25hdone\n"
          ]
        }
      ]
    },
    {
      "cell_type": "markdown",
      "source": [
        "##Data\n",
        "\n",
        "- The `Cora` dataset is a citation network where nodes represent documents.\n",
        "- **The goal is to infer the category of each document (7 in total).**\n",
        "- Each node is described by a 1433-dimensional bag-of-words feature vector.\n",
        "- Two documents are connected if there exists a citation link between them.\n",
        "- There are 140 nodes (20 for each class) for training, a training node label rate of 5%.\n",
        "- `val_mask` and `test_mask` denote which nodes should be used for validation and testing.\n",
        "- Row-normalize the bag-of-words input feature vectors.\n",
        "- This network is undirected, and there exists no isolated nodes (each document has at least one citation)."
      ],
      "metadata": {
        "id": "0IFsNxW9H3D7"
      }
    },
    {
      "cell_type": "code",
      "metadata": {
        "id": "imGrKO5YH11-",
        "colab": {
          "base_uri": "https://localhost:8080/"
        },
        "outputId": "2a64e675-158c-4519-ab28-1923c4ab830a"
      },
      "source": [
        "from torch_geometric.datasets import Planetoid\n",
        "from torch_geometric.nn import GCNConv\n",
        "from torch_geometric.transforms import NormalizeFeatures\n",
        "\n",
        "dataset = Planetoid(root='data/Planetoid', name='Cora', transform=NormalizeFeatures())\n",
        "\n",
        "print()\n",
        "print(f'Dataset: {dataset}:')\n",
        "print('======================')\n",
        "print(f'Number of graphs: {len(dataset)}')\n",
        "print(f'Number of features: {dataset.num_features}')\n",
        "print(f'Number of classes: {dataset.num_classes}')\n",
        "\n",
        "data = dataset[0]  # Get the first graph object.\n",
        "\n",
        "print()\n",
        "print(data)\n",
        "print('===========================================================================================================')\n",
        "\n",
        "# Gather some statistics about the graph.\n",
        "print(f'Number of nodes: {data.num_nodes}')\n",
        "print(f'Number of edges: {data.num_edges}')\n",
        "print(f'Average node degree: {data.num_edges / data.num_nodes:.2f}')\n",
        "print(f'Number of training nodes: {data.train_mask.sum()}')\n",
        "print(f'Training node label rate: {int(data.train_mask.sum()) / data.num_nodes:.2f}')\n",
        "print(f'Has isolated nodes: {data.has_isolated_nodes()}')\n",
        "print(f'Has self-loops: {data.has_self_loops()}')\n",
        "print(f'Is undirected: {data.is_undirected()}')"
      ],
      "execution_count": null,
      "outputs": [
        {
          "output_type": "stream",
          "name": "stderr",
          "text": [
            "Downloading https://github.com/kimiyoung/planetoid/raw/master/data/ind.cora.x\n",
            "Downloading https://github.com/kimiyoung/planetoid/raw/master/data/ind.cora.tx\n",
            "Downloading https://github.com/kimiyoung/planetoid/raw/master/data/ind.cora.allx\n",
            "Downloading https://github.com/kimiyoung/planetoid/raw/master/data/ind.cora.y\n",
            "Downloading https://github.com/kimiyoung/planetoid/raw/master/data/ind.cora.ty\n",
            "Downloading https://github.com/kimiyoung/planetoid/raw/master/data/ind.cora.ally\n",
            "Downloading https://github.com/kimiyoung/planetoid/raw/master/data/ind.cora.graph\n",
            "Downloading https://github.com/kimiyoung/planetoid/raw/master/data/ind.cora.test.index\n",
            "Processing...\n",
            "Done!\n"
          ]
        },
        {
          "output_type": "stream",
          "name": "stdout",
          "text": [
            "\n",
            "Dataset: Cora():\n",
            "======================\n",
            "Number of graphs: 1\n",
            "Number of features: 1433\n",
            "Number of classes: 7\n",
            "\n",
            "Data(x=[2708, 1433], edge_index=[2, 10556], y=[2708], train_mask=[2708], val_mask=[2708], test_mask=[2708])\n",
            "===========================================================================================================\n",
            "Number of nodes: 2708\n",
            "Number of edges: 10556\n",
            "Average node degree: 3.90\n",
            "Number of training nodes: 140\n",
            "Training node label rate: 0.05\n",
            "Has isolated nodes: False\n",
            "Has self-loops: False\n",
            "Is undirected: True\n"
          ]
        }
      ]
    },
    {
      "cell_type": "markdown",
      "metadata": {
        "id": "_OWGw54wRd98"
      },
      "source": [
        "## Train GNN"
      ]
    },
    {
      "cell_type": "code",
      "metadata": {
        "id": "fmXWs1dKIzD8",
        "colab": {
          "base_uri": "https://localhost:8080/"
        },
        "outputId": "d3936b27-6d6b-4159-fb0d-08e0e381a715"
      },
      "source": [
        "class GCN(torch.nn.Module):\n",
        "    def __init__(self, hidden_channels):\n",
        "        super().__init__()\n",
        "        torch.manual_seed(1234567)\n",
        "        self.conv1 = GCNConv(dataset.num_features, hidden_channels)\n",
        "        self.conv2 = GCNConv(hidden_channels, dataset.num_classes)\n",
        "\n",
        "    def forward(self, x, edge_index):\n",
        "        # Multiple GCNConv layers are just to change each node's embedding\n",
        "        # vector (value and length) further and further\n",
        "        x = self.conv1(x, edge_index)\n",
        "        x = x.relu()\n",
        "        x = F.dropout(x, p=0.5, training=self.training)\n",
        "        x = self.conv2(x, edge_index)  # x has changed; edge_index has not changed\n",
        "        return x\n",
        "\n",
        "model = GCN(hidden_channels=16)\n",
        "print(model)"
      ],
      "execution_count": null,
      "outputs": [
        {
          "output_type": "stream",
          "name": "stdout",
          "text": [
            "GCN(\n",
            "  (conv1): GCNConv(1433, 16)\n",
            "  (conv2): GCNConv(16, 7)\n",
            ")\n"
          ]
        }
      ]
    },
    {
      "cell_type": "markdown",
      "metadata": {
        "id": "Fpdscco5g6kG"
      },
      "source": [
        "`data.x` is the node features; `data.edge_index` is the graph connectivity"
      ]
    },
    {
      "cell_type": "code",
      "metadata": {
        "id": "p3TAi69zI1bO",
        "colab": {
          "base_uri": "https://localhost:8080/",
          "height": 300
        },
        "outputId": "4ad25e08-92dd-4396-f144-7a98126d6bf4"
      },
      "source": [
        "from IPython.display import Javascript  # Restrict height of output cell\n",
        "display(Javascript('''google.colab.output.setIframeHeight(0, true, {maxHeight: 300})'''))\n",
        "\n",
        "model = GCN(hidden_channels=16)\n",
        "optimizer = torch.optim.Adam(model.parameters(), lr=0.01, weight_decay=5e-4)\n",
        "criterion = torch.nn.CrossEntropyLoss()\n",
        "\n",
        "def train():\n",
        "    model.train()\n",
        "    optimizer.zero_grad()\n",
        "    out = model(data.x, data.edge_index)\n",
        "    loss = criterion(out[data.train_mask], data.y[data.train_mask])  # Compute loss only on training nodes\n",
        "    loss.backward()\n",
        "    optimizer.step()\n",
        "    return loss\n",
        "\n",
        "def test():\n",
        "    model.eval()\n",
        "    out = model(data.x, data.edge_index)\n",
        "    pred = out.argmax(dim=1)  # Use the class with highest probability\n",
        "    test_correct = pred[data.test_mask] == data.y[data.test_mask]\n",
        "    test_acc = int(test_correct.sum()) / int(data.test_mask.sum())\n",
        "    return test_acc\n",
        "\n",
        "\n",
        "for epoch in range(1, 101):\n",
        "    loss = train()\n",
        "    print(f'Epoch: {epoch:03d}, Loss: {loss:.4f}')"
      ],
      "execution_count": null,
      "outputs": [
        {
          "output_type": "display_data",
          "data": {
            "application/javascript": [
              "google.colab.output.setIframeHeight(0, true, {maxHeight: 300})"
            ],
            "text/plain": [
              "<IPython.core.display.Javascript object>"
            ]
          },
          "metadata": {}
        },
        {
          "output_type": "stream",
          "name": "stdout",
          "text": [
            "Epoch: 001, Loss: 1.9463\n",
            "Epoch: 002, Loss: 1.9409\n",
            "Epoch: 003, Loss: 1.9343\n",
            "Epoch: 004, Loss: 1.9275\n",
            "Epoch: 005, Loss: 1.9181\n",
            "Epoch: 006, Loss: 1.9086\n",
            "Epoch: 007, Loss: 1.9015\n",
            "Epoch: 008, Loss: 1.8933\n",
            "Epoch: 009, Loss: 1.8808\n",
            "Epoch: 010, Loss: 1.8685\n",
            "Epoch: 011, Loss: 1.8598\n",
            "Epoch: 012, Loss: 1.8482\n",
            "Epoch: 013, Loss: 1.8290\n",
            "Epoch: 014, Loss: 1.8233\n",
            "Epoch: 015, Loss: 1.8057\n",
            "Epoch: 016, Loss: 1.7966\n",
            "Epoch: 017, Loss: 1.7825\n",
            "Epoch: 018, Loss: 1.7617\n",
            "Epoch: 019, Loss: 1.7491\n",
            "Epoch: 020, Loss: 1.7310\n",
            "Epoch: 021, Loss: 1.7147\n",
            "Epoch: 022, Loss: 1.7056\n",
            "Epoch: 023, Loss: 1.6954\n",
            "Epoch: 024, Loss: 1.6697\n",
            "Epoch: 025, Loss: 1.6538\n",
            "Epoch: 026, Loss: 1.6312\n",
            "Epoch: 027, Loss: 1.6161\n",
            "Epoch: 028, Loss: 1.5899\n",
            "Epoch: 029, Loss: 1.5711\n",
            "Epoch: 030, Loss: 1.5576\n",
            "Epoch: 031, Loss: 1.5393\n",
            "Epoch: 032, Loss: 1.5137\n",
            "Epoch: 033, Loss: 1.4948\n",
            "Epoch: 034, Loss: 1.4913\n",
            "Epoch: 035, Loss: 1.4698\n",
            "Epoch: 036, Loss: 1.3998\n",
            "Epoch: 037, Loss: 1.4041\n",
            "Epoch: 038, Loss: 1.3761\n",
            "Epoch: 039, Loss: 1.3631\n",
            "Epoch: 040, Loss: 1.3258\n",
            "Epoch: 041, Loss: 1.3030\n",
            "Epoch: 042, Loss: 1.3119\n",
            "Epoch: 043, Loss: 1.2519\n",
            "Epoch: 044, Loss: 1.2530\n",
            "Epoch: 045, Loss: 1.2492\n",
            "Epoch: 046, Loss: 1.2205\n",
            "Epoch: 047, Loss: 1.2037\n",
            "Epoch: 048, Loss: 1.1571\n",
            "Epoch: 049, Loss: 1.1700\n",
            "Epoch: 050, Loss: 1.1296\n",
            "Epoch: 051, Loss: 1.0860\n",
            "Epoch: 052, Loss: 1.1080\n",
            "Epoch: 053, Loss: 1.0564\n",
            "Epoch: 054, Loss: 1.0157\n",
            "Epoch: 055, Loss: 1.0362\n",
            "Epoch: 056, Loss: 1.0328\n",
            "Epoch: 057, Loss: 1.0058\n",
            "Epoch: 058, Loss: 0.9865\n",
            "Epoch: 059, Loss: 0.9667\n",
            "Epoch: 060, Loss: 0.9741\n",
            "Epoch: 061, Loss: 0.9769\n",
            "Epoch: 062, Loss: 0.9122\n",
            "Epoch: 063, Loss: 0.8993\n",
            "Epoch: 064, Loss: 0.8769\n",
            "Epoch: 065, Loss: 0.8575\n",
            "Epoch: 066, Loss: 0.8897\n",
            "Epoch: 067, Loss: 0.8312\n",
            "Epoch: 068, Loss: 0.8262\n",
            "Epoch: 069, Loss: 0.8511\n",
            "Epoch: 070, Loss: 0.7711\n",
            "Epoch: 071, Loss: 0.8012\n",
            "Epoch: 072, Loss: 0.7529\n",
            "Epoch: 073, Loss: 0.7525\n",
            "Epoch: 074, Loss: 0.7689\n",
            "Epoch: 075, Loss: 0.7553\n",
            "Epoch: 076, Loss: 0.7032\n",
            "Epoch: 077, Loss: 0.7326\n",
            "Epoch: 078, Loss: 0.7122\n",
            "Epoch: 079, Loss: 0.7090\n",
            "Epoch: 080, Loss: 0.6755\n",
            "Epoch: 081, Loss: 0.6666\n",
            "Epoch: 082, Loss: 0.6679\n",
            "Epoch: 083, Loss: 0.7037\n",
            "Epoch: 084, Loss: 0.6752\n",
            "Epoch: 085, Loss: 0.6266\n",
            "Epoch: 086, Loss: 0.6564\n",
            "Epoch: 087, Loss: 0.6266\n",
            "Epoch: 088, Loss: 0.6411\n",
            "Epoch: 089, Loss: 0.6226\n",
            "Epoch: 090, Loss: 0.6535\n",
            "Epoch: 091, Loss: 0.6317\n",
            "Epoch: 092, Loss: 0.5741\n",
            "Epoch: 093, Loss: 0.5572\n",
            "Epoch: 094, Loss: 0.5710\n",
            "Epoch: 095, Loss: 0.5816\n",
            "Epoch: 096, Loss: 0.5745\n",
            "Epoch: 097, Loss: 0.5547\n",
            "Epoch: 098, Loss: 0.5989\n",
            "Epoch: 099, Loss: 0.6021\n",
            "Epoch: 100, Loss: 0.5799\n"
          ]
        }
      ]
    },
    {
      "cell_type": "code",
      "metadata": {
        "id": "8zOh6IIeI3Op",
        "colab": {
          "base_uri": "https://localhost:8080/"
        },
        "outputId": "1495b4b5-77c3-4374-ced1-5ad9d352a465"
      },
      "source": [
        "test_acc = test()\n",
        "print(f'Test Accuracy: {test_acc:.4f}')"
      ],
      "execution_count": null,
      "outputs": [
        {
          "output_type": "stream",
          "name": "stdout",
          "text": [
            "Test Accuracy: 0.8150\n"
          ]
        }
      ]
    }
  ]
}
